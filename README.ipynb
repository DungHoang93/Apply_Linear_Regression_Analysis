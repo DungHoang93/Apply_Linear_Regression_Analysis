{
 "cells": [
  {
   "cell_type": "markdown",
   "metadata": {},
   "source": [
    "### LINEAR REGRESSION\n",
    "This note aims to understand the basis of linear regression through: \n",
    "<ul>Fit a simple OLS linear regression model</ul>\n",
    "<ul>Use both quantitative and binary categorical predictors</ul>\n",
    "<ul>Interpret the coefficients of a regression model</ul>\n",
    "<ul>Check the assumptions of a regression model</ul>\n",
    "\n",
    "Dataset and the main structure of this project are from the course [Introduction to Linear Regression - Codecademy](https://www.codecademy.com/courses/linear-regression-mssp/lessons/introduction-to-linear-regression/exercises/review)"
   ]
  },
  {
   "cell_type": "markdown",
   "metadata": {},
   "source": [
    "The new dataset named website contains simulated data for a sample of visitors to a website, including the amount of time in seconds they spent on the website (time_seconds), their age (age), and information about whether they accessed the website using Chrome or Safari (browser).\n",
    "The Notebook is used to answer the questions below:\n",
    " - Quantitative predictors\n",
    "1. Create a plot of time_seconds (vertical axis) versus age (horizontal axis). Is there a linear relationship between these variables?\n",
    "2.  Fit a linear model to predict time_seconds using the age variable\n",
    "3. Use the coefficients from the linear model to plot the regression line on top of your original plot.\n",
    "4. Calculate the fitted values and residuals\n",
    "5.  the normality assumption by plotting a histogram of the residuals. Are they approximately normally distributed?\n",
    "6. the homoscedasticity assumption by plotting a the residuals against the fitted values. Is this assumption satisfied?\n",
    "7. Use your model to predict the amount of time that a 40 year old person will spend on the website.\n",
    "\n",
    " - Binary categorical predictors\n",
    "1. Fit another model that predicts time_seconds based on web_browser.\n",
    "2. Print out the coefficients. What is the difference in average time spent on each browser?\n"
   ]
  },
  {
   "cell_type": "code",
   "execution_count": null,
   "metadata": {},
   "outputs": [],
   "source": []
  }
 ],
 "metadata": {
  "kernelspec": {
   "display_name": "Python 3",
   "language": "python",
   "name": "python3"
  },
  "language_info": {
   "codemirror_mode": {
    "name": "ipython",
    "version": 3
   },
   "file_extension": ".py",
   "mimetype": "text/x-python",
   "name": "python",
   "nbconvert_exporter": "python",
   "pygments_lexer": "ipython3",
   "version": "3.8.5"
  }
 },
 "nbformat": 4,
 "nbformat_minor": 4
}
